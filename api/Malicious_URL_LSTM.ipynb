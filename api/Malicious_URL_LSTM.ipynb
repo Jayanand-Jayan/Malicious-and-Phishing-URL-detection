{
  "nbformat": 4,
  "nbformat_minor": 0,
  "metadata": {
    "colab": {
      "provenance": []
    },
    "kernelspec": {
      "name": "python3",
      "display_name": "Python 3"
    },
    "language_info": {
      "name": "python"
    },
    "accelerator": "GPU"
  },
  "cells": [
    {
      "cell_type": "code",
      "execution_count": 2,
      "metadata": {
        "colab": {
          "base_uri": "https://localhost:8080/"
        },
        "id": "od4tBqdNEjxF",
        "outputId": "6f9f53d8-a4fe-4a6c-d54d-af4f4ea09f07"
      },
      "outputs": [
        {
          "output_type": "execute_result",
          "data": {
            "text/plain": [
              "<keras.callbacks.History at 0x7f612118e690>"
            ]
          },
          "metadata": {},
          "execution_count": 2
        }
      ],
      "source": [
        "#Importing Libraries\n",
        "import pandas as pd \n",
        "import numpy as np\n",
        "import os\n",
        "from sklearn.model_selection import train_test_split\n",
        "from string import printable \n",
        "from keras.utils import pad_sequences\n",
        "import tensorflow as tf\n",
        "import json\n",
        "from tensorflow.keras.models import model_from_json\n",
        "from pathlib import Path\n",
        "import tensorflow as tf\n",
        "from tensorflow import keras\n",
        "from keras.models import Model\n",
        "from keras import regularizers, Sequential\n",
        "from keras.layers import Dense, Dropout, Activation, Lambda, Flatten, Input, ELU, LSTM, Embedding, BatchNormalization, Conv1D, concatenate, MaxPooling1D\n",
        "from keras.preprocessing import sequence\n",
        "from keras.optimizers import Adam\n",
        "from keras.utils import np_utils\n",
        "from keras import backend as K\n",
        "from sklearn.preprocessing import LabelEncoder\n",
        "\n",
        "#Reading data\n",
        "def read_data():\n",
        "  df = pd.read_csv(\"malicious_phish.csv\")\n",
        "  url_int_tokens = [\n",
        "      [printable.index(x) + 1 for x in url if x in printable] for url in df.iloc[:, 0]\n",
        "  ]\n",
        "\n",
        "  max_len = 75\n",
        "  X = pad_sequences(url_int_tokens, maxlen=max_len)\n",
        "  le1 = LabelEncoder()\n",
        "\n",
        "  df['type'] = le1.fit_transform(df['type'])\n",
        "  target = np.array(df['type'])\n",
        "  x_train, x_test, target_train, target_test = train_test_split(X, target, test_size=0.25, random_state=42)\n",
        "\n",
        "  return x_train, x_test, target_train, target_test\n",
        "\n",
        "x_train, x_test, target_train, target_test = read_data()\n",
        "\n",
        "#Making the model\n",
        "max_len = 75\n",
        "emb_dim = 32\n",
        "max_vocab_len = 101\n",
        "lstm_output_size = 32\n",
        "W_reg = regularizers.l2(1e-4)\n",
        "epochs_num = 10\n",
        "batch_size = 32\n",
        "\n",
        "final_model = Sequential()\n",
        "final_model.add(Embedding(input_dim=max_vocab_len, output_dim=emb_dim, input_length=max_len, embeddings_regularizer=W_reg))\n",
        "final_model.add(LSTM(lstm_output_size))\n",
        "final_model.add(Dense(1, activation='sigmoid'))\n",
        "\n",
        "final_model.compile(loss='binary_crossentropy', optimizer='adam', metrics=['accuracy'])\n",
        "\n",
        "x_valid, y_valid = x_train[:batch_size], target_train[:batch_size]\n",
        "x_train2, y_train2 = x_train[batch_size:], target_train[batch_size:]\n",
        "final_model.fit(x_train2, y_train2, validation_data=(x_valid, y_valid), batch_size=batch_size, epochs=epochs_num, verbose=0)"
      ]
    },
    {
      "cell_type": "code",
      "source": [
        "#Serialize the model and save\n",
        "\n",
        "final_model.save('lstm.h5')\n",
        "print(\"LSTM Model Saved\")\n",
        "\n",
        "#Load the model\n",
        "lstm = keras.models.load_model('lstm.h5')"
      ],
      "metadata": {
        "colab": {
          "base_uri": "https://localhost:8080/"
        },
        "id": "y6y3xaQtGxxl",
        "outputId": "130d0c4f-5eb2-4a78-c630-36d459b1b657"
      },
      "execution_count": 3,
      "outputs": [
        {
          "output_type": "stream",
          "name": "stdout",
          "text": [
            "LSTM Model Saved\n"
          ]
        }
      ]
    }
  ]
}